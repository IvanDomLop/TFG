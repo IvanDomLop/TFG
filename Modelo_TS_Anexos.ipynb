{
  "nbformat": 4,
  "nbformat_minor": 0,
  "metadata": {
    "colab": {
      "name": "Modelo_TS_Anexos.ipynb",
      "provenance": [],
      "collapsed_sections": []
    },
    "kernelspec": {
      "name": "python3",
      "display_name": "Python 3"
    },
    "language_info": {
      "name": "python"
    }
  },
  "cells": [
    {
      "cell_type": "markdown",
      "source": [
        "Carga de los datos\n"
      ],
      "metadata": {
        "id": "0XDithoE260W"
      }
    },
    {
      "cell_type": "code",
      "source": [
        "from google.colab import files\n",
        "uploaded = files.upload()\n",
        "\n",
        "import pandas as pd\n",
        "import matplotlib.pyplot as plt\n",
        "%matplotlib inline\n",
        "\n",
        "df = pd.read_excel('Time_Serie.xlsx') # Serie ya deflactada\n",
        "\n",
        "df.set_index('Quarter',inplace=True)\n",
        "df.index=pd.to_datetime(df.index)"
      ],
      "metadata": {
        "colab": {
          "resources": {
            "http://localhost:8080/nbextensions/google.colab/files.js": {
              "data": "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",
              "ok": true,
              "headers": [
                [
                  "content-type",
                  "application/javascript"
                ]
              ],
              "status": 200,
              "status_text": ""
            }
          },
          "base_uri": "https://localhost:8080/",
          "height": 74
        },
        "id": "P-ypWVal2-Sh",
        "outputId": "7e95df46-0fbd-4ed5-e23a-2f148cd11ccf"
      },
      "execution_count": null,
      "outputs": [
        {
          "output_type": "display_data",
          "data": {
            "text/plain": [
              "<IPython.core.display.HTML object>"
            ],
            "text/html": [
              "\n",
              "     <input type=\"file\" id=\"files-c9b33601-990d-4254-b4ef-5ffb865f50ee\" name=\"files[]\" multiple disabled\n",
              "        style=\"border:none\" />\n",
              "     <output id=\"result-c9b33601-990d-4254-b4ef-5ffb865f50ee\">\n",
              "      Upload widget is only available when the cell has been executed in the\n",
              "      current browser session. Please rerun this cell to enable.\n",
              "      </output>\n",
              "      <script src=\"/nbextensions/google.colab/files.js\"></script> "
            ]
          },
          "metadata": {}
        },
        {
          "output_type": "stream",
          "name": "stdout",
          "text": [
            "Saving Time_Serie.xlsx to Time_Serie.xlsx\n"
          ]
        }
      ]
    },
    {
      "cell_type": "markdown",
      "source": [
        "#Sliding Window"
      ],
      "metadata": {
        "id": "FYOuU5A_6XhR"
      }
    },
    {
      "cell_type": "code",
      "source": [
        "!pip install sktime\n",
        "!pip install pmdarima"
      ],
      "metadata": {
        "id": "GtjpMCV66hTC"
      },
      "execution_count": null,
      "outputs": []
    },
    {
      "cell_type": "code",
      "source": [
        "from sktime.forecasting.model_selection import SlidingWindowSplitter\n",
        "import numpy as np\n",
        "import seaborn as sns\n",
        "from warnings import simplefilter\n",
        "from matplotlib.ticker import MaxNLocator"
      ],
      "metadata": {
        "id": "sVVq7V406avv"
      },
      "execution_count": null,
      "outputs": []
    },
    {
      "cell_type": "code",
      "source": [
        "def plot_windows(y, train_windows, test_windows, title=\"\"):\n",
        "    \"\"\"Visualize training and test windows\"\"\"\n",
        "\n",
        "    simplefilter(\"ignore\", category=UserWarning)\n",
        "\n",
        "    def get_y(length, split):\n",
        "        # Create a constant vector based on the split for y-axis.\"\"\"\n",
        "        return np.ones(length) * split\n",
        "\n",
        "    n_splits = len(train_windows)\n",
        "    n_timepoints = len(y)\n",
        "    len_test = len(test_windows[0])\n",
        "\n",
        "    train_color, test_color = sns.color_palette(\"colorblind\")[:2]\n",
        "\n",
        "    fig, ax = plt.subplots(figsize=plt.figaspect(0.3))\n",
        "\n",
        "    for i in range(n_splits):\n",
        "        train = train_windows[i]\n",
        "        test = test_windows[i]\n",
        "\n",
        "        ax.plot(\n",
        "            np.arange(n_timepoints), get_y(n_timepoints, i), marker=\"o\", c=\"lightgray\"\n",
        "        )\n",
        "        ax.plot(\n",
        "            train,\n",
        "            get_y(len(train), i),\n",
        "            marker=\"o\",\n",
        "            c=train_color,\n",
        "            label=\"Window\",\n",
        "        )\n",
        "        ax.plot(\n",
        "            test,\n",
        "            get_y(len_test, i),\n",
        "            marker=\"o\",\n",
        "            c=test_color,\n",
        "            label=\"Forecasting horizon\",\n",
        "        )\n",
        "    ax.invert_yaxis()\n",
        "    ax.yaxis.set_major_locator(MaxNLocator(integer=True))\n",
        "    ax.set(\n",
        "        title=title,\n",
        "        ylabel=\"Window number\",\n",
        "        xlabel=\"Time\",\n",
        "        xticklabels=y.index,\n",
        "    )\n",
        "    # remove duplicate labels/handles\n",
        "    handles, labels = [(leg[:2]) for leg in ax.get_legend_handles_labels()]\n",
        "    ax.legend(handles, labels);"
      ],
      "metadata": {
        "id": "ucoDwqae6k_D"
      },
      "execution_count": null,
      "outputs": []
    },
    {
      "cell_type": "code",
      "source": [
        "def get_windows(y, cv):\n",
        "    \"\"\"Generate windows\"\"\"\n",
        "    train_windows = []\n",
        "    test_windows = []\n",
        "    for i, (train, test) in enumerate(cv.split(y)):\n",
        "        train_windows.append(train)\n",
        "        test_windows.append(test)\n",
        "    return train_windows, test_windows"
      ],
      "metadata": {
        "id": "NNEte9IJ69gW"
      },
      "execution_count": null,
      "outputs": []
    },
    {
      "cell_type": "markdown",
      "source": [
        "Variables Exógenas\n"
      ],
      "metadata": {
        "id": "OZO310CP7GVO"
      }
    },
    {
      "cell_type": "markdown",
      "source": [
        "Variables Oferta y Demanda\n",
        "\n",
        "Oferta:\n",
        "  - Numero Hipotecas\n",
        "  - Numero Visados de Obra (Vlc)\n",
        "\n",
        "Demanda:\n",
        "  - Poblacion Activa (Vlc)\n",
        "  - Euribor\n",
        "  - Salarios (Renta)"
      ],
      "metadata": {
        "id": "Lzsaw-Oh7IgC"
      }
    },
    {
      "cell_type": "code",
      "source": [
        "df_ind = df_ind.drop(67) # Eliminamos la última fila porque no tiene datos\n",
        "\n",
        "exog = np.empty([67,5])\n",
        "\n",
        "for i in range(len(df_ind)):\n",
        "  exog[i,0] = df_ind['Numero Hipotecas'][i]\n",
        "  exog[i,1] = df_ind['Precio Hipotecas'][i]\n",
        "  exog[i,2] = df_ind['Poblacion Activa'][i]\n",
        "  exog[i,3] = df_ind['Euribor'][i]\n",
        "  exog[i,4] = df_ind['Salario Medio'][i]"
      ],
      "metadata": {
        "id": "7QVA64EU6vdZ"
      },
      "execution_count": null,
      "outputs": []
    },
    {
      "cell_type": "markdown",
      "source": [
        "#Desarrollo modelo ARIMAX"
      ],
      "metadata": {
        "id": "Dg3S4rlw7jSI"
      }
    },
    {
      "cell_type": "code",
      "source": [
        "from sklearn.metrics import mean_squared_error"
      ],
      "metadata": {
        "id": "A4lxnXbx7iMR"
      },
      "execution_count": null,
      "outputs": []
    },
    {
      "cell_type": "code",
      "source": [
        "import warnings\n",
        "warnings.filterwarnings('ignore')\n",
        "\n",
        "# Prueba para visualizar la técnica de ventana deslizante\n",
        "\n",
        "cv = SlidingWindowSplitter(window_length=12, fh=[1, 2, 3, 4], step_length = 4)\n",
        "\n",
        "n_splits = cv.get_n_splits(df)\n",
        "print(f\"Number of Folds = {n_splits}\")\n",
        "\n",
        "train_windows, test_windows = get_windows(df, cv)\n",
        "\n",
        "plot_windows(df, train_windows, test_windows)"
      ],
      "metadata": {
        "colab": {
          "base_uri": "https://localhost:8080/",
          "height": 297
        },
        "id": "C5Fy20Bl76qL",
        "outputId": "0f7f21ec-3886-4cb3-ca53-3b6f1031ae2f"
      },
      "execution_count": null,
      "outputs": [
        {
          "output_type": "stream",
          "name": "stdout",
          "text": [
            "Number of Folds = 13\n"
          ]
        },
        {
          "output_type": "display_data",
          "data": {
            "text/plain": [
              "<Figure size 960x288 with 1 Axes>"
            ],
            "image/png": "[encoded data removed]"
          },
          "metadata": {
            "needs_background": "light"
          }
        }
      ]
    },
    {
      "cell_type": "code",
      "source": [
        "from statsmodels.tsa.arima.model import ARIMA\n",
        "\n",
        "# Prueba funcionamiento modelo\n",
        "\n",
        "indexes_train = list(train_windows[0])\n",
        "indexes_test = list(test_windows[0])\n",
        "  \n",
        "df_train = df.iloc[indexes_train]\n",
        "df_train = df_train.reset_index(drop = True)\n",
        "df_test = df.iloc[indexes_test]\n",
        "\n",
        "exog_train = scaled_exog[indexes_train]\n",
        "exog_test = scaled_exog[indexes_test]\n",
        "\n",
        "model = ARIMA(df_train.Precio, order=(1,0,2), exog = exog_train)\n",
        "model_fit = model.fit()\n",
        "predictions = model_fit.predict(start = 12, end = 15, exog = exog_test) \n",
        "error = np.sqrt(mean_squared_error(df_test.Precio, predictions))\n",
        "print(error)"
      ],
      "metadata": {
        "id": "N4du_0V49soj"
      },
      "execution_count": null,
      "outputs": []
    },
    {
      "cell_type": "code",
      "source": [
        "def Window_fitter(p,d,q): # Función para entrenar modelo y obtener error medio\n",
        "  total = 0\n",
        "  warnings.filterwarnings('ignore')\n",
        "  cv = SlidingWindowSplitter(window_length = 4, fh= [1,2,3,4])\n",
        "  train_windows, test_windows = get_windows(df, cv)\n",
        "  rmse = []\n",
        "  for i in range(len(train_windows)):\n",
        "    indexes_train = list(train_windows[i])\n",
        "    indexes_test = list(test_windows[i])\n",
        "      \n",
        "    df_train = df.iloc[indexes_train]\n",
        "    df_train = df_train.reset_index(drop = True) # Necesario Resetear índice para no tener problemas luego con los índices temporales\n",
        "    df_test = df.iloc[indexes_test]\n",
        "\n",
        "    exog_train = scaled_exog[indexes_train]\n",
        "    exog_test = scaled_exog[indexes_test]\n",
        "    try:\n",
        "      model = ARIMA(df_train.Precio, order=(p,d,q), exog = exog_train)\n",
        "      model_fit = model.fit()\n",
        "      predictions = model_fit.predict(start = 4, end = 7, exog = exog_test) \n",
        "      error = np.sqrt(mean_squared_error(df_test.Precio, predictions))\n",
        "      rmse.append(error)\n",
        "    except: pass\n",
        "\n",
        "  return ((p,d,q), np.mean(rmse))\n",
        "\n"
      ],
      "metadata": {
        "id": "YfhrKQbW_Vjw"
      },
      "execution_count": null,
      "outputs": []
    },
    {
      "cell_type": "markdown",
      "source": [
        "#Horizonte temporal 4Q"
      ],
      "metadata": {
        "id": "GoBvAI7Iz7Sc"
      }
    },
    {
      "cell_type": "markdown",
      "source": [
        "Longitud de venatana 12"
      ],
      "metadata": {
        "id": "vZPiP_e3z_G7"
      }
    },
    {
      "cell_type": "code",
      "source": [
        "p_values = [0,1,2,3,4,5] \n",
        "q_values = [0,1,2,3,5]\n",
        "d_values = range(1,3)\n",
        "w_l = 12\n",
        "h = [1,2,3,4]\n",
        "\n",
        "results = {}\n",
        "for p in p_values:\n",
        "  for q in q_values:\n",
        "    for d in d_values:\n",
        "      order = (p,d,q)\n",
        "      result = Window_fitter(p,d,q)\n",
        "      results[order] = result\n",
        "      #print(order, result)\n",
        "      \n",
        "best = 10000\n",
        "for comb in results:\n",
        "  rmse = results[comb]\n",
        "  if rmse < best: best = rmse\n",
        "  else: pass\n",
        "print(best)"
      ],
      "metadata": {
        "id": "WxRYUA4K_9fP"
      },
      "execution_count": null,
      "outputs": []
    },
    {
      "cell_type": "markdown",
      "source": [
        "Longitud de venatana 16"
      ],
      "metadata": {
        "id": "DlCxuSnT0DgH"
      }
    },
    {
      "cell_type": "code",
      "source": [
        "p_values = [0,1,2,3,4,5] \n",
        "q_values = [0,1,2,3,5]\n",
        "d_values = range(1,3)\n",
        "w_l = 16\n",
        "h = [1,2,3,4]\n",
        "\n",
        "results = {}\n",
        "for p in p_values:\n",
        "  for q in q_values:\n",
        "    for d in d_values:\n",
        "      order = (p,d,q)\n",
        "      result = Window_fitter(p,d,q)\n",
        "      results[order] = result\n",
        "      #print(order, result)\n",
        "\n",
        "best = 10000\n",
        "for comb in results:\n",
        "  rmse = results[comb]\n",
        "  if rmse < best: best = rmse\n",
        "  else: pass\n",
        "print(best)"
      ],
      "metadata": {
        "id": "vMIqAu7rLBk-"
      },
      "execution_count": null,
      "outputs": []
    },
    {
      "cell_type": "markdown",
      "source": [
        "Longitud de venatana 8"
      ],
      "metadata": {
        "id": "pGTJ2TUc0EtK"
      }
    },
    {
      "cell_type": "code",
      "source": [
        "p_values = [0,1,2,3,4,5] \n",
        "q_values = [0,1,2,3,5]\n",
        "d_values = range(1,3)\n",
        "w_l = 8\n",
        "h = [1,2,3,4]\n",
        "\n",
        "results = {}\n",
        "for p in p_values:\n",
        "  for q in q_values:\n",
        "    for d in d_values:\n",
        "      order = (p,d,q)\n",
        "      result = Window_fitter(p,d,q)\n",
        "      results[order] = result\n",
        "      #print(order, result)\n",
        "\n",
        "best = 10000\n",
        "for comb in results:\n",
        "  rmse = results[comb]\n",
        "  if rmse < best: best = rmse\n",
        "  else: pass\n",
        "print(best)"
      ],
      "metadata": {
        "id": "13_njr73Se5Q"
      },
      "execution_count": null,
      "outputs": []
    },
    {
      "cell_type": "markdown",
      "source": [
        "Longitud de venatana 20"
      ],
      "metadata": {
        "id": "xHSIz1cD0GJP"
      }
    },
    {
      "cell_type": "code",
      "source": [
        "p_values = [0,1,2,3,4,5]\n",
        "q_values = [0,1,2,3,5]\n",
        "d_values = range(1,3)\n",
        "w_l = 20\n",
        "h = [1,2,3,4]\n",
        "\n",
        "results = {}\n",
        "for p in p_values:\n",
        "  for q in q_values:\n",
        "    for d in d_values:\n",
        "      order = (p,d,q)\n",
        "      result = Window_fitter(p,d,q)\n",
        "      results[order] = result\n",
        "      #print(order, result)\n",
        "\n",
        "best = 10000\n",
        "for comb in results:\n",
        "  rmse = results[comb]\n",
        "  if rmse < best: best = rmse\n",
        "  else: pass\n",
        "print(best)"
      ],
      "metadata": {
        "id": "BdV0ADWZai-P"
      },
      "execution_count": null,
      "outputs": []
    },
    {
      "cell_type": "markdown",
      "source": [
        "Longitud de venatana 24"
      ],
      "metadata": {
        "id": "MKl-HRI_0Hpk"
      }
    },
    {
      "cell_type": "code",
      "source": [
        "p_values = [0,1,2,3,4,5] \n",
        "q_values = [0,1,2,3,5]\n",
        "d_values = range(1,3)\n",
        "w_l = 24\n",
        "h = [1,2,3,4]\n",
        "\n",
        "results = {}\n",
        "for p in p_values:\n",
        "  for q in q_values:\n",
        "    for d in d_values:\n",
        "      order = (p,d,q)\n",
        "      result = Window_fitter(p,d,q)\n",
        "      results[order] = result\n",
        "      #print(order, result)\n",
        "\n",
        "best = 10000\n",
        "for comb in results:\n",
        "  rmse = results[comb]\n",
        "  if rmse < best: best = rmse\n",
        "  else: pass\n",
        "print(best)"
      ],
      "metadata": {
        "id": "BQjqPWlbfljr"
      },
      "execution_count": null,
      "outputs": []
    },
    {
      "cell_type": "markdown",
      "source": [
        "#HORIZONTE TEMPORAL 2 Q "
      ],
      "metadata": {
        "id": "4seqfWDcUXF1"
      }
    },
    {
      "cell_type": "markdown",
      "source": [
        "Longitud de venatana 12"
      ],
      "metadata": {
        "id": "cD_yoNH_zxyD"
      }
    },
    {
      "cell_type": "code",
      "source": [
        "p_values = [0,1,2,3,4,5] \n",
        "q_values = [0,1,2,3,5]\n",
        "d_values = range(1,3)\n",
        "w_l = 12\n",
        "h = [1,2]\n",
        "\n",
        "results = {}\n",
        "for p in p_values:\n",
        "  for q in q_values:\n",
        "    for d in d_values:\n",
        "      order = (p,d,q)\n",
        "      result = Window_fitter(p,d,q)\n",
        "      results[order] = result\n",
        "      #print(order, result)\n",
        "\n",
        "best = 10000\n",
        "for comb in results:\n",
        "  rmse = results[comb]\n",
        "  if rmse < best: best = rmse\n",
        "  else: pass\n",
        "print(best)"
      ],
      "metadata": {
        "id": "6DLsde6zUdB-"
      },
      "execution_count": null,
      "outputs": []
    },
    {
      "cell_type": "markdown",
      "source": [
        "Longitud de venatana 16"
      ],
      "metadata": {
        "id": "ewWSHNU4zvlX"
      }
    },
    {
      "cell_type": "code",
      "source": [
        "p_values = [0,1,2,3,4,5] \n",
        "q_values = [0,1,2,3,5]\n",
        "d_values = range(1,3)\n",
        "w_l = 16\n",
        "h = [1,2]\n",
        "\n",
        "results = {}\n",
        "for p in p_values:\n",
        "  for q in q_values:\n",
        "    for d in d_values:\n",
        "      order = (p,d,q)\n",
        "      result = Window_fitter(p,d,q)\n",
        "      results[order] = result\n",
        "      #print(order, result)\n",
        "\n",
        "\n",
        "best = 10000\n",
        "for comb in results:\n",
        "  rmse = results[comb]\n",
        "  if rmse < best: best = rmse\n",
        "  else: pass\n",
        "print(best)"
      ],
      "metadata": {
        "id": "_0AkSAXkcvjK"
      },
      "execution_count": null,
      "outputs": []
    },
    {
      "cell_type": "markdown",
      "source": [
        "Longitud de venatana 8"
      ],
      "metadata": {
        "id": "ZvPvdPN-zucP"
      }
    },
    {
      "cell_type": "code",
      "source": [
        "p_values = [0,1,2,3,4,5] \n",
        "q_values = [0,1,2,3,5]\n",
        "d_values = range(1,3)\n",
        "w_l = 8\n",
        "h = [1,2]\n",
        "\n",
        "results = {}\n",
        "for p in p_values:\n",
        "  for q in q_values:\n",
        "    for d in d_values:\n",
        "      order = (p,d,q)\n",
        "      result = Window_fitter(p,d,q)\n",
        "      results[order] = result\n",
        "      #print(order, result)\n",
        "\n",
        "\n",
        "best = 10000\n",
        "for comb in results:\n",
        "  rmse = results[comb]\n",
        "  if rmse < best: best = rmse\n",
        "  else: pass\n",
        "print(best)"
      ],
      "metadata": {
        "id": "OZRBB8Cgloht"
      },
      "execution_count": null,
      "outputs": []
    },
    {
      "cell_type": "markdown",
      "source": [
        "Longitud de venatana 20"
      ],
      "metadata": {
        "id": "cQv8Y_p5ztDr"
      }
    },
    {
      "cell_type": "code",
      "source": [
        "p_values = [0,1,2,3,4,5] \n",
        "q_values = [0,1,2,3,5]\n",
        "d_values = range(1,3)\n",
        "w_l = 20\n",
        "h = [1,2]\n",
        "\n",
        "results = {}\n",
        "for p in p_values:\n",
        "  for q in q_values:\n",
        "    for d in d_values:\n",
        "      order = (p,d,q)\n",
        "      result = Window_fitter(p,d,q)\n",
        "      results[order] = result\n",
        "      #print(order, result)\n",
        "\n",
        "best = 10000\n",
        "for comb in results:\n",
        "  rmse = results[comb]\n",
        "  if rmse < best: best = rmse\n",
        "  else: pass\n",
        "print(best)"
      ],
      "metadata": {
        "id": "vkptBVNBvB1O"
      },
      "execution_count": null,
      "outputs": []
    },
    {
      "cell_type": "markdown",
      "source": [
        "Longitud de venatana 24"
      ],
      "metadata": {
        "id": "lwOK-rDBzrhW"
      }
    },
    {
      "cell_type": "code",
      "source": [
        "p_values = [0,1,2,3,4,5] \n",
        "q_values = [0,1,2,3,5]\n",
        "d_values = range(1,3)\n",
        "w_l = 24\n",
        "h = [1,2]\n",
        "\n",
        "results = {}\n",
        "for p in p_values:\n",
        "  for q in q_values:\n",
        "    for d in d_values:\n",
        "      order = (p,d,q)\n",
        "      result = Window_fitter(p,d,q)\n",
        "      results[order] = result\n",
        "      #print(order, result)\n",
        "\n",
        "best = 10000\n",
        "for comb in results:\n",
        "  rmse = results[comb]\n",
        "  if rmse < best: best = rmse\n",
        "  else: pass\n",
        "print(best)"
      ],
      "metadata": {
        "id": "UN3GVyth2CDe"
      },
      "execution_count": null,
      "outputs": []
    },
    {
      "cell_type": "markdown",
      "source": [
        "#HORIZONTE TEMPORAL 8Q"
      ],
      "metadata": {
        "id": "HcQFkCRcACQD"
      }
    },
    {
      "cell_type": "markdown",
      "source": [
        "Longitud de venatana 12"
      ],
      "metadata": {
        "id": "q3Q7svtVzZzu"
      }
    },
    {
      "cell_type": "code",
      "source": [
        "p_values = [0,1,2,3,4,5] \n",
        "q_values = [0,1,2,3,5]\n",
        "d_values = range(0,3)\n",
        "w_l = 12\n",
        "h = [1,2,3,4,5,6,7,8]\n",
        "\n",
        "results = {}\n",
        "for p in p_values:\n",
        "  for q in q_values:\n",
        "    for d in d_values:\n",
        "      order = (p,d,q)\n",
        "      result = Window_fitter(p,d,q)\n",
        "      results[order] = result\n",
        "      #print(order, result)\n",
        "\n",
        "best = 10000\n",
        "for comb in results:\n",
        "  rmse = results[comb]\n",
        "  if rmse < best: best = rmse\n",
        "  else: pass\n",
        "print(best)"
      ],
      "metadata": {
        "id": "o2SQ-FHnAJUC"
      },
      "execution_count": null,
      "outputs": []
    },
    {
      "cell_type": "markdown",
      "source": [
        "Longitud de venatana 16"
      ],
      "metadata": {
        "id": "NDMU0Sq-zhbJ"
      }
    },
    {
      "cell_type": "code",
      "source": [
        "p_values = [0,1,2,3,4,5] \n",
        "q_values = [0,1,2,3,5]\n",
        "d_values = range(0,3)\n",
        "w_l = 16\n",
        "h = [1,2,3,4,5,6,7,8]\n",
        "\n",
        "results = {}\n",
        "for p in p_values:\n",
        "  for q in q_values:\n",
        "    for d in d_values:\n",
        "      order = (p,d,q)\n",
        "      result = Window_fitter(p,d,q)\n",
        "      results[order] = result\n",
        "      #print(order, result)\n",
        "\n",
        "best = 10000\n",
        "for comb in results:\n",
        "  rmse = results[comb]\n",
        "  if rmse < best: best = rmse\n",
        "  else: pass\n",
        "print(best)"
      ],
      "metadata": {
        "id": "FDlyuigAIHZq"
      },
      "execution_count": null,
      "outputs": []
    },
    {
      "cell_type": "markdown",
      "source": [
        "Longitud de venatana 8"
      ],
      "metadata": {
        "id": "z2QTWNvCzjvd"
      }
    },
    {
      "cell_type": "code",
      "source": [
        "p_values = [0,1,2,3,4,5] \n",
        "q_values = [0,1,2,3,5]\n",
        "d_values = range(0,3)\n",
        "w_l = 8\n",
        "h = [1,2,3,4,5,6,7,8]\n",
        "\n",
        "results = {}\n",
        "for p in p_values:\n",
        "  for q in q_values:\n",
        "    for d in d_values:\n",
        "      order = (p,d,q)\n",
        "      result = Window_fitter(p,d,q)\n",
        "      results[order] = result\n",
        "      #print(order, result)\n",
        "\n",
        "best = 10000\n",
        "for comb in results:\n",
        "  rmse = results[comb]\n",
        "  if rmse < best: best = rmse\n",
        "  else: pass\n",
        "print(best)"
      ],
      "metadata": {
        "id": "5lYYuqrdPQ26"
      },
      "execution_count": null,
      "outputs": []
    },
    {
      "cell_type": "markdown",
      "source": [
        "Longitud de venatana 20"
      ],
      "metadata": {
        "id": "JA1jPHyczmEH"
      }
    },
    {
      "cell_type": "code",
      "source": [
        "p_values = [0,1,2,3,4,5]\n",
        "q_values = [0,1,2,3,5]\n",
        "d_values = range(0,3)\n",
        "w_l = 20\n",
        "h = [1,2,3,4,5,6,7,8]\n",
        "\n",
        "results = {}\n",
        "for p in p_values:\n",
        "  for q in q_values:\n",
        "    for d in d_values:\n",
        "      order = (p,d,q)\n",
        "      result = Window_fitter(p,d,q)\n",
        "      results[order] = result\n",
        "      #print(order, result)\n",
        "\n",
        "best = 10000\n",
        "for comb in results:\n",
        "  rmse = results[comb]\n",
        "  if rmse < best: best = rmse\n",
        "  else: pass\n",
        "print(best)"
      ],
      "metadata": {
        "id": "gWxWrE6xYGAW"
      },
      "execution_count": null,
      "outputs": []
    },
    {
      "cell_type": "markdown",
      "source": [
        "Longitud de venatana 24"
      ],
      "metadata": {
        "id": "P6SgxpaYznxV"
      }
    },
    {
      "cell_type": "code",
      "source": [
        "p_values = [0,1,2,3,4,5] \n",
        "q_values = [0,1,2,3,5]\n",
        "d_values = range(0,3)\n",
        "w_l = 24\n",
        "h = [1,2,3,4,5,6,7,8]\n",
        "\n",
        "results = {}\n",
        "for p in p_values:\n",
        "  for q in q_values:\n",
        "    for d in d_values:\n",
        "      order = (p,d,q)\n",
        "      result = Window_fitter(p,d,q)\n",
        "      results[order] = result\n",
        "      #print(order, result)\n",
        "\n",
        "best = 10000\n",
        "for comb in results:\n",
        "  rmse = results[comb]\n",
        "  if rmse < best: best = rmse\n",
        "  else: pass\n",
        "print(best)"
      ],
      "metadata": {
        "id": "Ud7SWVswdzGB"
      },
      "execution_count": null,
      "outputs": []
    }
  ]
}